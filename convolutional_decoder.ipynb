{
  "nbformat": 4,
  "nbformat_minor": 0,
  "metadata": {
    "colab": {
      "provenance": [],
      "gpuType": "T4",
      "authorship_tag": "ABX9TyOr9qJ84RObHLMs/+ttalcn",
      "include_colab_link": true
    },
    "kernelspec": {
      "name": "python3",
      "display_name": "Python 3"
    },
    "language_info": {
      "name": "python"
    },
    "accelerator": "GPU"
  },
  "cells": [
    {
      "cell_type": "markdown",
      "metadata": {
        "id": "view-in-github",
        "colab_type": "text"
      },
      "source": [
        "<a href=\"https://colab.research.google.com/github/Deepanshu41008/AVSE/blob/main/convolutional_decoder.ipynb\" target=\"_parent\"><img src=\"https://colab.research.google.com/assets/colab-badge.svg\" alt=\"Open In Colab\"/></a>"
      ]
    },
    {
      "cell_type": "code",
      "execution_count": 1,
      "metadata": {
        "id": "AONGfGEsGb0v"
      },
      "outputs": [],
      "source": [
        "#assuming Squeezeformer_output, shape [batch_size, time_steps, model_dim]"
      ]
    },
    {
      "cell_type": "code",
      "source": [
        "import tensorflow as tf\n",
        "from tensorflow.keras import layers, models\n",
        "\n",
        "def build_conv1d_decoder(model_dim=256, num_freq_bins=129):\n",
        "    inputs = tf.keras.Input(shape=(None, model_dim))  # [batch, time, model_dim]\n",
        "\n",
        "    x = layers.Conv1D(256, kernel_size=5, padding='same', activation='relu')(inputs)\n",
        "    x = layers.BatchNormalization()(x)\n",
        "\n",
        "    x = layers.Conv1D(256, kernel_size=5, padding='same', activation='relu')(x)\n",
        "    x = layers.BatchNormalization()(x)\n",
        "\n",
        "    x = layers.Conv1D(128, kernel_size=3, padding='same', activation='relu')(x)\n",
        "    x = layers.BatchNormalization()(x)\n",
        "\n",
        "    x = layers.Conv1D(num_freq_bins, kernel_size=1, padding='same', activation='linear')(x)  # final output layer\n",
        "\n",
        "    model = models.Model(inputs=inputs, outputs=x)\n",
        "    model.compile(optimizer='adam', loss='mse')\n",
        "    return model\n"
      ],
      "metadata": {
        "id": "Gul5lv09Ge3i"
      },
      "execution_count": 2,
      "outputs": []
    },
    {
      "cell_type": "code",
      "source": [
        "\n",
        "conv_decoder = build_conv1d_decoder(model_dim=256, num_freq_bins=129)\n",
        "output_mag = conv_decoder(squeezeformer_output)\n"
      ],
      "metadata": {
        "id": "lAiEw2hEH3m6"
      },
      "execution_count": null,
      "outputs": []
    }
  ]
}